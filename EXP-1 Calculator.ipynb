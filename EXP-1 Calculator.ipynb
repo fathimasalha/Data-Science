{
 "cells": [
  {
   "cell_type": "code",
   "execution_count": 6,
   "id": "966f2170",
   "metadata": {},
   "outputs": [
    {
     "name": "stdout",
     "output_type": "stream",
     "text": [
      "enter first number:6\n",
      "enter second number:0\n",
      "select the operation to perform:\n",
      "1.Addition\n",
      "2.Substraction\n",
      "3.Multiplication\n",
      "4.Division\n",
      "Enter Choice(1-4):4\n",
      "cannot divisible by zero\n"
     ]
    }
   ],
   "source": [
    "num1=float(input(\"enter first number:\"))\n",
    "num2=float(input(\"enter second number:\"))\n",
    "print(\"select the operation to perform:\")\n",
    "print(\"1.Addition\")\n",
    "print(\"2.Substraction\")\n",
    "print(\"3.Multiplication\")\n",
    "print(\"4.Division\")\n",
    "ch=int(input(\"Enter Choice(1-4):\"))\n",
    "if(ch==1):\n",
    "    print(\"Additionf:%.2f\" %(num1+num2))\n",
    "elif(ch==2):\n",
    "    print(\"Substraction:%.2f\" %(num1-num2))\n",
    "elif(ch==3):\n",
    "    print(\"Multiplication::%.2f\" %(num1*num2))\n",
    "elif(ch==4):\n",
    "    if(num2!=0):\n",
    "        print(\"Division:%.2f\" %(num1/num2))\n",
    "    else:\n",
    "        print(\"cannot divisible by zero\")\n",
    "else:\n",
    "    print(\"Invalid!\")\n"
   ]
  },
  {
   "cell_type": "code",
   "execution_count": null,
   "id": "aa4266e0",
   "metadata": {},
   "outputs": [],
   "source": []
  }
 ],
 "metadata": {
  "kernelspec": {
   "display_name": "Python 3 (ipykernel)",
   "language": "python",
   "name": "python3"
  },
  "language_info": {
   "codemirror_mode": {
    "name": "ipython",
    "version": 3
   },
   "file_extension": ".py",
   "mimetype": "text/x-python",
   "name": "python",
   "nbconvert_exporter": "python",
   "pygments_lexer": "ipython3",
   "version": "3.11.4"
  }
 },
 "nbformat": 4,
 "nbformat_minor": 5
}
